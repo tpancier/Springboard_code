{
 "cells": [
  {
   "cell_type": "markdown",
   "metadata": {},
   "source": [
    "# Hospital Readmissions Data Analysis and Recommendations for Reduction\n",
    "\n",
    "### Background\n",
    "In October 2012, the US government's Center for Medicare and Medicaid Services (CMS) began reducing Medicare payments for Inpatient Prospective Payment System hospitals with excess readmissions. Excess readmissions are measured by a ratio, by dividing a hospital’s number of “predicted” 30-day readmissions for heart attack, heart failure, and pneumonia by the number that would be “expected,” based on an average hospital with similar patients. A ratio greater than 1 indicates excess readmissions.\n",
    "\n",
    "### Exercise Directions\n",
    "\n",
    "In this exercise, you will:\n",
    "+ critique a preliminary analysis of readmissions data and recommendations (provided below) for reducing the readmissions rate\n",
    "+ construct a statistically sound analysis and make recommendations of your own \n",
    "\n",
    "More instructions provided below. Include your work **in this notebook and submit to your Github account**. \n",
    "\n",
    "### Resources\n",
    "+ Data source: https://data.medicare.gov/Hospital-Compare/Hospital-Readmission-Reduction/9n3s-kdb3\n",
    "+ More information: http://www.cms.gov/Medicare/medicare-fee-for-service-payment/acuteinpatientPPS/readmissions-reduction-program.html\n",
    "+ Markdown syntax: http://nestacms.com/docs/creating-content/markdown-cheat-sheet\n",
    "****"
   ]
  },
  {
   "cell_type": "code",
   "execution_count": 37,
   "metadata": {},
   "outputs": [],
   "source": [
    "%matplotlib inline\n",
    "\n",
    "import pandas as pd\n",
    "import numpy as np\n",
    "import matplotlib.pyplot as plt\n",
    "import bokeh.plotting as bkp\n",
    "from mpl_toolkits.axes_grid1 import make_axes_locatable"
   ]
  },
  {
   "cell_type": "code",
   "execution_count": 38,
   "metadata": {},
   "outputs": [],
   "source": [
    "# read in readmissions data provided\n",
    "hospital_read_df = pd.read_csv('data/cms_hospital_readmissions.csv')"
   ]
  },
  {
   "cell_type": "code",
   "execution_count": 39,
   "metadata": {},
   "outputs": [
    {
     "data": {
      "text/html": [
       "<div>\n",
       "<style scoped>\n",
       "    .dataframe tbody tr th:only-of-type {\n",
       "        vertical-align: middle;\n",
       "    }\n",
       "\n",
       "    .dataframe tbody tr th {\n",
       "        vertical-align: top;\n",
       "    }\n",
       "\n",
       "    .dataframe thead th {\n",
       "        text-align: right;\n",
       "    }\n",
       "</style>\n",
       "<table border=\"1\" class=\"dataframe\">\n",
       "  <thead>\n",
       "    <tr style=\"text-align: right;\">\n",
       "      <th></th>\n",
       "      <th>Hospital Name</th>\n",
       "      <th>Provider Number</th>\n",
       "      <th>State</th>\n",
       "      <th>Measure Name</th>\n",
       "      <th>Number of Discharges</th>\n",
       "      <th>Footnote</th>\n",
       "      <th>Excess Readmission Ratio</th>\n",
       "      <th>Predicted Readmission Rate</th>\n",
       "      <th>Expected Readmission Rate</th>\n",
       "      <th>Number of Readmissions</th>\n",
       "      <th>Start Date</th>\n",
       "      <th>End Date</th>\n",
       "    </tr>\n",
       "  </thead>\n",
       "  <tbody>\n",
       "    <tr>\n",
       "      <th>0</th>\n",
       "      <td>FROEDTERT MEMORIAL LUTHERAN HOSPITAL</td>\n",
       "      <td>520177</td>\n",
       "      <td>WI</td>\n",
       "      <td>READM-30-HIP-KNEE-HRRP</td>\n",
       "      <td>242</td>\n",
       "      <td>NaN</td>\n",
       "      <td>1.9095</td>\n",
       "      <td>10.8</td>\n",
       "      <td>5.6</td>\n",
       "      <td>38.0</td>\n",
       "      <td>07/01/2010</td>\n",
       "      <td>06/30/2013</td>\n",
       "    </tr>\n",
       "    <tr>\n",
       "      <th>1</th>\n",
       "      <td>PROVIDENCE HOSPITAL</td>\n",
       "      <td>90006</td>\n",
       "      <td>DC</td>\n",
       "      <td>READM-30-HIP-KNEE-HRRP</td>\n",
       "      <td>247</td>\n",
       "      <td>NaN</td>\n",
       "      <td>1.7521</td>\n",
       "      <td>9.2</td>\n",
       "      <td>5.3</td>\n",
       "      <td>33.0</td>\n",
       "      <td>07/01/2010</td>\n",
       "      <td>06/30/2013</td>\n",
       "    </tr>\n",
       "    <tr>\n",
       "      <th>2</th>\n",
       "      <td>BEAUFORT COUNTY MEMORIAL HOSPITAL</td>\n",
       "      <td>420067</td>\n",
       "      <td>SC</td>\n",
       "      <td>READM-30-HIP-KNEE-HRRP</td>\n",
       "      <td>586</td>\n",
       "      <td>NaN</td>\n",
       "      <td>1.5836</td>\n",
       "      <td>7.6</td>\n",
       "      <td>4.8</td>\n",
       "      <td>53.0</td>\n",
       "      <td>07/01/2010</td>\n",
       "      <td>06/30/2013</td>\n",
       "    </tr>\n",
       "    <tr>\n",
       "      <th>3</th>\n",
       "      <td>ADVOCATE CHRIST HOSPITAL &amp; MEDICAL CENTER</td>\n",
       "      <td>140208</td>\n",
       "      <td>IL</td>\n",
       "      <td>READM-30-HIP-KNEE-HRRP</td>\n",
       "      <td>965</td>\n",
       "      <td>NaN</td>\n",
       "      <td>1.5760</td>\n",
       "      <td>9.0</td>\n",
       "      <td>5.7</td>\n",
       "      <td>95.0</td>\n",
       "      <td>07/01/2010</td>\n",
       "      <td>06/30/2013</td>\n",
       "    </tr>\n",
       "    <tr>\n",
       "      <th>4</th>\n",
       "      <td>BRAZOSPORT REGIONAL HEALTH SYSTEM</td>\n",
       "      <td>450072</td>\n",
       "      <td>TX</td>\n",
       "      <td>READM-30-HIP-KNEE-HRRP</td>\n",
       "      <td>149</td>\n",
       "      <td>NaN</td>\n",
       "      <td>1.5308</td>\n",
       "      <td>8.2</td>\n",
       "      <td>5.4</td>\n",
       "      <td>20.0</td>\n",
       "      <td>07/01/2010</td>\n",
       "      <td>06/30/2013</td>\n",
       "    </tr>\n",
       "  </tbody>\n",
       "</table>\n",
       "</div>"
      ],
      "text/plain": [
       "                               Hospital Name  Provider Number State  \\\n",
       "0       FROEDTERT MEMORIAL LUTHERAN HOSPITAL           520177    WI   \n",
       "1                        PROVIDENCE HOSPITAL            90006    DC   \n",
       "2          BEAUFORT COUNTY MEMORIAL HOSPITAL           420067    SC   \n",
       "3  ADVOCATE CHRIST HOSPITAL & MEDICAL CENTER           140208    IL   \n",
       "4          BRAZOSPORT REGIONAL HEALTH SYSTEM           450072    TX   \n",
       "\n",
       "             Measure Name Number of Discharges  Footnote  \\\n",
       "0  READM-30-HIP-KNEE-HRRP                  242       NaN   \n",
       "1  READM-30-HIP-KNEE-HRRP                  247       NaN   \n",
       "2  READM-30-HIP-KNEE-HRRP                  586       NaN   \n",
       "3  READM-30-HIP-KNEE-HRRP                  965       NaN   \n",
       "4  READM-30-HIP-KNEE-HRRP                  149       NaN   \n",
       "\n",
       "   Excess Readmission Ratio  Predicted Readmission Rate  \\\n",
       "0                    1.9095                        10.8   \n",
       "1                    1.7521                         9.2   \n",
       "2                    1.5836                         7.6   \n",
       "3                    1.5760                         9.0   \n",
       "4                    1.5308                         8.2   \n",
       "\n",
       "   Expected Readmission Rate  Number of Readmissions  Start Date    End Date  \n",
       "0                        5.6                    38.0  07/01/2010  06/30/2013  \n",
       "1                        5.3                    33.0  07/01/2010  06/30/2013  \n",
       "2                        4.8                    53.0  07/01/2010  06/30/2013  \n",
       "3                        5.7                    95.0  07/01/2010  06/30/2013  \n",
       "4                        5.4                    20.0  07/01/2010  06/30/2013  "
      ]
     },
     "execution_count": 39,
     "metadata": {},
     "output_type": "execute_result"
    }
   ],
   "source": [
    "hospital_read_df.head()"
   ]
  },
  {
   "cell_type": "markdown",
   "metadata": {},
   "source": [
    "****\n",
    "## Preliminary Analysis"
   ]
  },
  {
   "cell_type": "code",
   "execution_count": 42,
   "metadata": {},
   "outputs": [
    {
     "name": "stderr",
     "output_type": "stream",
     "text": [
      "/Users/tpancier/anaconda3/lib/python3.6/site-packages/pandas/core/indexing.py:537: SettingWithCopyWarning: \n",
      "A value is trying to be set on a copy of a slice from a DataFrame.\n",
      "Try using .loc[row_indexer,col_indexer] = value instead\n",
      "\n",
      "See the caveats in the documentation: http://pandas.pydata.org/pandas-docs/stable/indexing.html#indexing-view-versus-copy\n",
      "  self.obj[item] = s\n"
     ]
    }
   ],
   "source": [
    "# deal with missing and inconvenient portions of data \n",
    "clean_hospital_read_df = hospital_read_df[hospital_read_df['Number of Discharges'] != 'Not Available']\n",
    "clean_hospital_read_df.loc[:, 'Number of Discharges'] = clean_hospital_read_df['Number of Discharges'].astype(int)\n",
    "clean_hospital_read_df = clean_hospital_read_df.sort_values('Number of Discharges')"
   ]
  },
  {
   "cell_type": "code",
   "execution_count": 35,
   "metadata": {},
   "outputs": [
    {
     "data": {
      "image/png": "[encoded data removed]",
      "text/plain": [
       "<matplotlib.figure.Figure at 0x10da2f940>"
      ]
     },
     "metadata": {},
     "output_type": "display_data"
    }
   ],
   "source": [
    "# generate a scatterplot for number of discharges vs. excess rate of readmissions\n",
    "# lists work better with matplotlib scatterplot function\n",
    "x = [a for a in clean_hospital_read_df['Number of Discharges'][81:-3]]\n",
    "y = list(clean_hospital_read_df['Excess Readmission Ratio'][81:-3])\n",
    "\n",
    "fig, ax = plt.subplots(figsize=(8,5))\n",
    "ax.scatter(x, y,alpha=0.2)\n",
    "\n",
    "ax.fill_between([0,350], 1.15, 2, facecolor='red', alpha = .15, interpolate=True)\n",
    "ax.fill_between([800,2500], .5, .95, facecolor='green', alpha = .15, interpolate=True)\n",
    "\n",
    "ax.set_xlim([0, max(x)])\n",
    "ax.set_xlabel('Number of discharges', fontsize=12)\n",
    "ax.set_ylabel('Excess rate of readmissions', fontsize=12)\n",
    "ax.set_title('Scatterplot of number of discharges vs. excess rate of readmissions', fontsize=14)\n",
    "\n",
    "ax.grid(True)\n",
    "fig.tight_layout()"
   ]
  },
  {
   "cell_type": "markdown",
   "metadata": {},
   "source": [
    "****\n",
    "\n",
    "## Preliminary Report\n",
    "\n",
    "Read the following results/report. While you are reading it, think about if the conclusions are correct, incorrect, misleading or unfounded. Think about what you would change or what additional analyses you would perform.\n",
    "\n",
    "**A. Initial observations based on the plot above**\n",
    "+ Overall, rate of readmissions is trending down with increasing number of discharges\n",
    "+ With lower number of discharges, there is a greater incidence of excess rate of readmissions (area shaded red)\n",
    "+ With higher number of discharges, there is a greater incidence of lower rates of readmissions (area shaded green) \n",
    "\n",
    "**B. Statistics**\n",
    "+ In hospitals/facilities with number of discharges < 100, mean excess readmission rate is 1.023 and 63% have excess readmission rate greater than 1 \n",
    "+ In hospitals/facilities with number of discharges > 1000, mean excess readmission rate is 0.978 and 44% have excess readmission rate greater than 1 \n",
    "\n",
    "**C. Conclusions**\n",
    "+ There is a significant correlation between hospital capacity (number of discharges) and readmission rates. \n",
    "+ Smaller hospitals/facilities may be lacking necessary resources to ensure quality care and prevent complications that lead to readmissions.\n",
    "\n",
    "**D. Regulatory policy recommendations**\n",
    "+ Hospitals/facilties with small capacity (< 300) should be required to demonstrate upgraded resource allocation for quality care to continue operation.\n",
    "+ Directives and incentives should be provided for consolidation of hospitals and facilities to have a smaller number of them with higher capacity and number of discharges."
   ]
  },
  {
   "cell_type": "markdown",
   "metadata": {},
   "source": [
    "****\n",
    "### Exercise\n",
    "\n",
    "Include your work on the following **in this notebook and submit to your Github account**. \n",
    "\n",
    "A. Do you agree with the above analysis and recommendations? Why or why not?\n",
    "   \n",
    "B. Provide support for your arguments and your own recommendations with a statistically sound analysis:\n",
    "\n",
    "   1. Setup an appropriate hypothesis test.\n",
    "   2. Compute and report the observed significance value (or p-value).\n",
    "   3. Report statistical significance for $\\alpha$ = .01. \n",
    "   4. Discuss statistical significance and practical significance. Do they differ here? How does this change your recommendation to the client?\n",
    "   5. Look at the scatterplot above. \n",
    "      - What are the advantages and disadvantages of using this plot to convey information?\n",
    "      - Construct another plot that conveys the same information in a more direct manner.\n",
    "\n",
    "\n",
    "\n",
    "You can compose in notebook cells using Markdown: \n",
    "+ In the control panel at the top, choose Cell > Cell Type > Markdown\n",
    "+ Markdown syntax: http://nestacms.com/docs/creating-content/markdown-cheat-sheet\n",
    "****"
   ]
  },
  {
   "cell_type": "code",
   "execution_count": null,
   "metadata": {
    "collapsed": true
   },
   "outputs": [],
   "source": [
    "# Your turn"
   ]
  },
  {
   "cell_type": "code",
   "execution_count": 56,
   "metadata": {},
   "outputs": [
    {
     "data": {
      "text/plain": [
       "1832     1.0914\n",
       "1699     1.0961\n",
       "1774     1.0934\n",
       "1853     1.0908\n",
       "1290     1.1123\n",
       "1602     1.0992\n",
       "2048     1.0847\n",
       "2441     1.0738\n",
       "2512     1.0720\n",
       "2825     1.0651\n",
       "3828     1.0444\n",
       "5125     1.0228\n",
       "3312     1.0548\n",
       "2378     1.0756\n",
       "2670     1.0683\n",
       "2944     1.0622\n",
       "1238     1.1149\n",
       "1395     1.1082\n",
       "3145     1.0581\n",
       "3207     1.0570\n",
       "1471     1.1043\n",
       "1838     1.0912\n",
       "4092     1.0398\n",
       "2252     1.0784\n",
       "3087     1.0593\n",
       "4317     1.0359\n",
       "5309     1.0203\n",
       "2952     1.0621\n",
       "3406     1.0530\n",
       "738      1.1468\n",
       "          ...  \n",
       "7147     0.9935\n",
       "897      1.1358\n",
       "13326    0.8384\n",
       "7872     0.9839\n",
       "9444     0.9627\n",
       "13723    0.6350\n",
       "1605     1.0991\n",
       "12910    0.8747\n",
       "2758     1.0663\n",
       "7934     0.9831\n",
       "1352     1.1099\n",
       "3042     1.0605\n",
       "1448     1.1055\n",
       "2846     1.0647\n",
       "8249     0.9788\n",
       "3202     1.0571\n",
       "13730    0.5495\n",
       "2440     1.0738\n",
       "11545    0.9248\n",
       "1805     1.0925\n",
       "8818     0.9712\n",
       "572      1.1637\n",
       "136      1.2577\n",
       "1698     1.0962\n",
       "1242     1.1148\n",
       "8126     0.9804\n",
       "6643     1.0003\n",
       "1892     1.0896\n",
       "13615    0.7682\n",
       "13666    0.7379\n",
       "Name: Excess Readmission Ratio, Length: 11497, dtype: float64"
      ]
     },
     "execution_count": 56,
     "metadata": {},
     "output_type": "execute_result"
    }
   ],
   "source": [
    "# Checking null values from Excess readmission ration:\n",
    "clean_hospital_read_df['Excess Readmission Ratio'][pd.notnull(clean_hospital_read_df['Excess Readmission Ratio'])]"
   ]
  },
  {
   "cell_type": "code",
   "execution_count": 65,
   "metadata": {},
   "outputs": [
    {
     "data": {
      "text/html": [
       "<div>\n",
       "<style scoped>\n",
       "    .dataframe tbody tr th:only-of-type {\n",
       "        vertical-align: middle;\n",
       "    }\n",
       "\n",
       "    .dataframe tbody tr th {\n",
       "        vertical-align: top;\n",
       "    }\n",
       "\n",
       "    .dataframe thead th {\n",
       "        text-align: right;\n",
       "    }\n",
       "</style>\n",
       "<table border=\"1\" class=\"dataframe\">\n",
       "  <thead>\n",
       "    <tr style=\"text-align: right;\">\n",
       "      <th></th>\n",
       "      <th>Excess Readmission Ratio</th>\n",
       "      <th>Number of Discharges</th>\n",
       "    </tr>\n",
       "  </thead>\n",
       "  <tbody>\n",
       "  </tbody>\n",
       "</table>\n",
       "</div>"
      ],
      "text/plain": [
       "Empty DataFrame\n",
       "Columns: [Excess Readmission Ratio, Number of Discharges]\n",
       "Index: []"
      ]
     },
     "execution_count": 65,
     "metadata": {},
     "output_type": "execute_result"
    }
   ],
   "source": [
    "# Removing null values from excess readmission ratio:\n",
    "\n",
    "excess_discharge = clean_hospital_read_df[['Excess Readmission Ratio','Number of Discharges']].dropna(how='any')"
   ]
  },
  {
   "cell_type": "code",
   "execution_count": 66,
   "metadata": {},
   "outputs": [
    {
     "name": "stdout",
     "output_type": "stream",
     "text": [
      "-0.0973979435108\n"
     ]
    }
   ],
   "source": [
    "def pearson_r(x, y):\n",
    "    \"\"\"Compute Pearson correlation coefficient between two arrays.\"\"\"\n",
    "    # Compute correlation matrix: corr_mat\n",
    "    corr_mat = np.corrcoef(x, y)\n",
    "\n",
    "    # Return entry [0,1]\n",
    "    return corr_mat[0,1]\n",
    "\n",
    "# Compute Pearson correlation coefficient for I. versicolor: r\n",
    "r = pearson_r(excess_discharge['Number of Discharges'], excess_discharge['Excess Readmission Ratio'])\n",
    "\n",
    "# Print the result\n",
    "print(r)"
   ]
  },
  {
   "cell_type": "markdown",
   "metadata": {},
   "source": [
    "**Answer A:** based on the negative pearson correlation, I agree that rate of readmissions is likely trending down with increasing number of discharges. However the correlatio is weak."
   ]
  },
  {
   "cell_type": "markdown",
   "metadata": {},
   "source": [
    "## Answer B (below):"
   ]
  },
  {
   "cell_type": "code",
   "execution_count": 91,
   "metadata": {},
   "outputs": [
    {
     "data": {
      "text/plain": [
       "1.0226183501683506"
      ]
     },
     "execution_count": 91,
     "metadata": {},
     "output_type": "execute_result"
    }
   ],
   "source": [
    "clean_hospital_read_df['Excess Readmission Ratio'][clean_hospital_read_df['Number of Discharges'] < 100].mean()"
   ]
  },
  {
   "cell_type": "code",
   "execution_count": 107,
   "metadata": {},
   "outputs": [],
   "source": [
    "excess_readm_1 = clean_hospital_read_df['Excess Readmission Ratio'][clean_hospital_read_df['Number of Discharges'] < 100]"
   ]
  },
  {
   "cell_type": "code",
   "execution_count": 108,
   "metadata": {},
   "outputs": [],
   "source": [
    "excess_readm_1 = excess_readm_1[pd.notnull(excess_readm_1)]"
   ]
  },
  {
   "cell_type": "markdown",
   "metadata": {},
   "source": [
    "**Hypothesis test:**\n",
    "- Null 1: mean of excess readmission ratio is 1.023 for Number of Discharges < 100\n",
    "- Alternate 1: mean of excess readmission ratio is different than 1.023 for Number of Discharges < 100\n"
   ]
  },
  {
   "cell_type": "code",
   "execution_count": 112,
   "metadata": {},
   "outputs": [
    {
     "data": {
      "text/plain": [
       "0.0016821298911009841"
      ]
     },
     "execution_count": 112,
     "metadata": {},
     "output_type": "execute_result"
    }
   ],
   "source": [
    "from scipy.stats import sem\n",
    "\n",
    "# statistic minus the claim:\n",
    "diff_mean = excess_readm_1.mean() - 1.023\n",
    "\n",
    "# standard error:\n",
    "serr = sem(excess_readm_1)\n",
    "serr\n"
   ]
  },
  {
   "cell_type": "code",
   "execution_count": 113,
   "metadata": {},
   "outputs": [
    {
     "data": {
      "text/plain": [
       "-0.22688487593520365"
      ]
     },
     "execution_count": 113,
     "metadata": {},
     "output_type": "execute_result"
    }
   ],
   "source": [
    "zscore = diff_mean / serr\n",
    "zscore "
   ]
  },
  {
   "cell_type": "code",
   "execution_count": 120,
   "metadata": {},
   "outputs": [
    {
     "data": {
      "text/plain": [
       "0.82051326266255764"
      ]
     },
     "execution_count": 120,
     "metadata": {},
     "output_type": "execute_result"
    }
   ],
   "source": [
    "import scipy.stats as st\n",
    "p_value = st.norm.cdf(zscore)*2\n",
    "p_value"
   ]
  },
  {
   "cell_type": "markdown",
   "metadata": {},
   "source": [
    "High p value indicate that the null hypothesis cannot be rejected"
   ]
  },
  {
   "cell_type": "code",
   "execution_count": 121,
   "metadata": {},
   "outputs": [
    {
     "data": {
      "text/plain": [
       "0.0043398951190405394"
      ]
     },
     "execution_count": 121,
     "metadata": {},
     "output_type": "execute_result"
    }
   ],
   "source": [
    "moe = 2.58 * serr\n",
    "moe"
   ]
  },
  {
   "cell_type": "code",
   "execution_count": 122,
   "metadata": {},
   "outputs": [
    {
     "data": {
      "text/plain": [
       "1.01827845504931"
      ]
     },
     "execution_count": 122,
     "metadata": {},
     "output_type": "execute_result"
    }
   ],
   "source": [
    "exc_read_low = excess_readm_1.mean() - moe\n",
    "exc_read_high = excess_readm_1.mean() + moe\n",
    "exc_read_low"
   ]
  },
  {
   "cell_type": "code",
   "execution_count": 123,
   "metadata": {},
   "outputs": [
    {
     "data": {
      "text/plain": [
       "1.0269582452873911"
      ]
     },
     "execution_count": 123,
     "metadata": {},
     "output_type": "execute_result"
    }
   ],
   "source": [
    "exc_read_high"
   ]
  },
  {
   "cell_type": "markdown",
   "metadata": {},
   "source": [
    "For 99% confidence level, excess readmission mean may vary between 1.01827845504931 and 1.0269582452873911. As the confidence interval contains the null hypothesis, it cannot be rejected."
   ]
  },
  {
   "cell_type": "code",
   "execution_count": 141,
   "metadata": {},
   "outputs": [
    {
     "data": {
      "text/plain": [
       "array([ 0.00048409,  0.00086978, -0.00145732, ..., -0.00070194,\n",
       "       -0.00032618, -0.00147399])"
      ]
     },
     "execution_count": 141,
     "metadata": {},
     "output_type": "execute_result"
    }
   ],
   "source": [
    "# Bootstrap:\n",
    "\n",
    "import numpy as np\n",
    "\n",
    "bs_size = 10000\n",
    "\n",
    "bs_replicates = np.empty(bs_size)\n",
    "\n",
    "np.random.seed(10)\n",
    "\n",
    "for i in range(bs_size):\n",
    "    bs_sample = np.random.choice(excess_readm_1, size=len(excess_readm_1))\n",
    "    bs_replicates[i] = np.mean(bs_sample)\n",
    "    diff_mean_replicates = bs_replicates - 1.023\n",
    "\n",
    "diff_mean_replicates"
   ]
  },
  {
   "cell_type": "code",
   "execution_count": 142,
   "metadata": {},
   "outputs": [
    {
     "data": {
      "text/plain": [
       "-0.00037019189393929929"
      ]
     },
     "execution_count": 142,
     "metadata": {},
     "output_type": "execute_result"
    }
   ],
   "source": [
    "diff_mean_replicates.mean()"
   ]
  },
  {
   "cell_type": "markdown",
   "metadata": {},
   "source": [
    "The difference between a bootstrap sample mean and 1.023 is aproximately zero, so the 1.023 can be considered the real mean (null hypothesis)."
   ]
  },
  {
   "cell_type": "code",
   "execution_count": 143,
   "metadata": {},
   "outputs": [
    {
     "data": {
      "text/plain": [
       "array([-0.00454572,  0.00401426])"
      ]
     },
     "execution_count": 143,
     "metadata": {},
     "output_type": "execute_result"
    }
   ],
   "source": [
    "conf_int_mean = np.percentile(diff_mean_replicates, [0.5, 99.5])\n",
    "conf_int_mean"
   ]
  },
  {
   "cell_type": "markdown",
   "metadata": {},
   "source": [
    "Null hypothesis is within the confidence interval"
   ]
  },
  {
   "cell_type": "markdown",
   "metadata": {},
   "source": [
    "Hypothesis test:\n",
    "- Null 2: proportion of readmission ration > 1 is 63%\n",
    "- Alternate 2: proportion of readmission ration > 1 is different 63%"
   ]
  },
  {
   "cell_type": "code",
   "execution_count": 130,
   "metadata": {},
   "outputs": [
    {
     "data": {
      "text/plain": [
       "0.6321548821548821"
      ]
     },
     "execution_count": 130,
     "metadata": {},
     "output_type": "execute_result"
    }
   ],
   "source": [
    "len(excess_readm_1[excess_readm_1 > 1]) / len(excess_readm_1)"
   ]
  },
  {
   "cell_type": "code",
   "execution_count": 137,
   "metadata": {},
   "outputs": [
    {
     "data": {
      "text/plain": [
       "0.0022010942760942718"
      ]
     },
     "execution_count": 137,
     "metadata": {},
     "output_type": "execute_result"
    }
   ],
   "source": [
    "# Bootstrap:\n",
    "\n",
    "import numpy as np\n",
    "\n",
    "bs_size = 10000\n",
    "\n",
    "bs_replicates = np.empty(bs_size)\n",
    "\n",
    "np.random.seed(10)\n",
    "\n",
    "for i in range(bs_size):\n",
    "    bs_sample = np.random.choice(excess_readm_1, size=len(excess_readm_1))\n",
    "    bs_replicates[i] = np.sum(bs_sample > 1) / len(bs_sample)\n",
    "    diff_prop_replicates = bs_replicates - 0.63\n",
    "\n",
    "diff_prop_replicates.mean()"
   ]
  },
  {
   "cell_type": "markdown",
   "metadata": {},
   "source": [
    "The mean is very close to zero, so null hypothesis can be accepted"
   ]
  },
  {
   "cell_type": "code",
   "execution_count": 140,
   "metadata": {},
   "outputs": [
    {
     "data": {
      "text/plain": [
       "array([-0.03320286,  0.03666667])"
      ]
     },
     "execution_count": 140,
     "metadata": {},
     "output_type": "execute_result"
    }
   ],
   "source": [
    "conf_int = np.percentile(diff_prop_replicates, [0.5, 99.5])\n",
    "conf_int"
   ]
  },
  {
   "cell_type": "markdown",
   "metadata": {},
   "source": [
    "Null hypothesis is within the confidence interval"
   ]
  },
  {
   "cell_type": "markdown",
   "metadata": {},
   "source": [
    "**Hypothesis test:**\n",
    "- Null 3: mean of excess readmission ratio is 0.978 for Number of Discharges > 1000\n",
    "- Alternate 3: mean of excess readmission ratio is different than 0.978 for Number of Discharges > 1000"
   ]
  },
  {
   "cell_type": "code",
   "execution_count": 150,
   "metadata": {},
   "outputs": [],
   "source": [
    "excess_readm_2 = clean_hospital_read_df['Excess Readmission Ratio'][clean_hospital_read_df['Number of Discharges'] > 1000]\n",
    "excess_readm_2 = excess_readm_2[pd.notnull(excess_readm_2)]"
   ]
  },
  {
   "cell_type": "code",
   "execution_count": 151,
   "metadata": {},
   "outputs": [
    {
     "data": {
      "text/plain": [
       "0.9783354211663071"
      ]
     },
     "execution_count": 151,
     "metadata": {},
     "output_type": "execute_result"
    }
   ],
   "source": [
    "excess_readm_2.mean()"
   ]
  },
  {
   "cell_type": "code",
   "execution_count": 155,
   "metadata": {},
   "outputs": [
    {
     "data": {
      "text/plain": [
       "array([-0.00042268, -0.00079698,  0.00967711, ..., -0.00902592,\n",
       "       -0.0052013 , -0.00489654])"
      ]
     },
     "execution_count": 155,
     "metadata": {},
     "output_type": "execute_result"
    }
   ],
   "source": [
    "# Bootstrap:\n",
    "\n",
    "import numpy as np\n",
    "\n",
    "bs_size = 10000\n",
    "\n",
    "bs_replicates = np.empty(bs_size)\n",
    "\n",
    "np.random.seed(10)\n",
    "\n",
    "for i in range(bs_size):\n",
    "    bs_sample = np.random.choice(excess_readm_2, size=len(excess_readm_2))\n",
    "    bs_replicates[i] = np.mean(bs_sample)\n",
    "    diff_mean_replicates = bs_replicates - 0.978\n",
    "\n",
    "diff_mean_replicates"
   ]
  },
  {
   "cell_type": "code",
   "execution_count": 156,
   "metadata": {},
   "outputs": [
    {
     "data": {
      "text/plain": [
       "0.00037582049676028364"
      ]
     },
     "execution_count": 156,
     "metadata": {},
     "output_type": "execute_result"
    }
   ],
   "source": [
    "diff_mean_replicates.mean()"
   ]
  },
  {
   "cell_type": "markdown",
   "metadata": {},
   "source": [
    "The difference between a bootstrap sample mean and 0.978 is very low, so the 0.978 can be considered the real mean (null hypothesis)."
   ]
  },
  {
   "cell_type": "code",
   "execution_count": 157,
   "metadata": {},
   "outputs": [
    {
     "data": {
      "text/plain": [
       "array([-0.01385396,  0.01456697])"
      ]
     },
     "execution_count": 157,
     "metadata": {},
     "output_type": "execute_result"
    }
   ],
   "source": [
    "conf_int = np.percentile(diff_mean_replicates, [0.5, 99.5])\n",
    "conf_int"
   ]
  },
  {
   "cell_type": "markdown",
   "metadata": {},
   "source": [
    "Null hypothesis is within the confidence interval"
   ]
  },
  {
   "cell_type": "markdown",
   "metadata": {},
   "source": [
    "**Hypothesis test:**\n",
    "- Null 4: proportion of readmission ration > 1 is 44%\n",
    "- Alternate 4: proportion of readmission ration > 1 is different 44%"
   ]
  },
  {
   "cell_type": "code",
   "execution_count": 158,
   "metadata": {},
   "outputs": [
    {
     "data": {
      "text/plain": [
       "0.0050565874730021578"
      ]
     },
     "execution_count": 158,
     "metadata": {},
     "output_type": "execute_result"
    }
   ],
   "source": [
    "# Bootstrap:\n",
    "\n",
    "import numpy as np\n",
    "\n",
    "bs_size = 10000\n",
    "\n",
    "bs_replicates = np.empty(bs_size)\n",
    "\n",
    "np.random.seed(10)\n",
    "\n",
    "for i in range(bs_size):\n",
    "    bs_sample = np.random.choice(excess_readm_2, size=len(excess_readm_2))\n",
    "    bs_replicates[i] = np.sum(bs_sample > 1) / len(bs_sample)\n",
    "    diff_prop_replicates = bs_replicates - 0.44\n",
    "\n",
    "diff_prop_replicates.mean()"
   ]
  },
  {
   "cell_type": "markdown",
   "metadata": {},
   "source": [
    "The mean of the proportions difference is very close to zero, so the null hypothesis cannot be rejected and 44% can be consider the proportion."
   ]
  },
  {
   "cell_type": "code",
   "execution_count": 159,
   "metadata": {},
   "outputs": [
    {
     "data": {
      "text/plain": [
       "array([-0.05339093,  0.06539957])"
      ]
     },
     "execution_count": 159,
     "metadata": {},
     "output_type": "execute_result"
    }
   ],
   "source": [
    "conf_int_prop = np.percentile(diff_prop_replicates, [0.5, 99.5])\n",
    "conf_int_prop"
   ]
  },
  {
   "cell_type": "markdown",
   "metadata": {},
   "source": [
    "Null hypothesis is contained in the confidence interval, no null hypothesis cannot be rejected."
   ]
  },
  {
   "cell_type": "markdown",
   "metadata": {},
   "source": [
    "**Statistical significance vs practical significance:**"
   ]
  },
  {
   "cell_type": "markdown",
   "metadata": {},
   "source": [
    "Significant differences (i.e., reject the null hypothesis) means that differences in test statistic are not likely due to sampling error. Statistical significance is used to determine if a result is valid for a population or not.\n",
    "\n",
    "Prtactical significance considers if the differences have real meaning. This analysis requires some subject matter expertise. \n",
    "\n",
    "In the example above, the difference between the mean and proportion in the analysis and the one calculated is practicaly the same with some rounding difference. A hypothesis test to verify the statistical significance wouldn't be necessary."
   ]
  },
  {
   "cell_type": "markdown",
   "metadata": {},
   "source": [
    "**Plot:**\n",
    "\n",
    "The scatterplot above with the red and green boxes doesn't allow a clear trend to be shown."
   ]
  },
  {
   "cell_type": "code",
   "execution_count": 165,
   "metadata": {},
   "outputs": [
    {
     "name": "stdout",
     "output_type": "stream",
     "text": [
      "slope = -326.997250412 Number of discharge / Excess Readmission Ration\n",
      "intercept = 694.917175592 Number of discharge\n"
     ]
    },
    {
     "data": {
      "image/png": "[encoded data removed]",
      "text/plain": [
       "<matplotlib.figure.Figure at 0x1a195decc0>"
      ]
     },
     "metadata": {},
     "output_type": "display_data"
    }
   ],
   "source": [
    "# Plot the scatter plot:\n",
    "_ = plt.plot(clean_hospital_read_df['Excess Readmission Ratio'], clean_hospital_read_df['Number of Discharges'], marker='.', linestyle='none')\n",
    "plt.margins(0.02)\n",
    "_ = plt.xlabel('Excess Readmission Ratio')\n",
    "_ = plt.ylabel('Number of Discharges')\n",
    "\n",
    "# Perform a linear regression using np.polyfit(): a, b\n",
    "a, b = np.polyfit(excess_discharge['Excess Readmission Ratio'], excess_discharge['Number of Discharges'], 1)\n",
    "\n",
    "# Print the results to the screen\n",
    "print('slope =', a, 'Number of discharge / Excess Readmission Ration')\n",
    "print('intercept =', b, 'Number of discharge')\n",
    "\n",
    "# Make theoretical line to plot\n",
    "x = np.array([0, 2.5])\n",
    "y = a * x + b\n",
    "\n",
    "# Add regression line to your plot\n",
    "_ = plt.plot(x, y)\n",
    "\n",
    "# Draw the plot\n",
    "plt.show()"
   ]
  },
  {
   "cell_type": "markdown",
   "metadata": {},
   "source": [
    "The correlation is week ("
   ]
  }
 ],
 "metadata": {
  "anaconda-cloud": {},
  "kernelspec": {
   "display_name": "Python 3",
   "language": "python",
   "name": "python3"
  },
  "language_info": {
   "codemirror_mode": {
    "name": "ipython",
    "version": 3
   },
   "file_extension": ".py",
   "mimetype": "text/x-python",
   "name": "python",
   "nbconvert_exporter": "python",
   "pygments_lexer": "ipython3",
   "version": "3.6.3"
  }
 },
 "nbformat": 4,
 "nbformat_minor": 1
}
